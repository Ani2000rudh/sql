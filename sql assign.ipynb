{
 "cells": [
  {
   "cell_type": "code",
   "execution_count": 1,
   "id": "dace7ceb-acf4-4d35-87d9-8bf5928c5cd7",
   "metadata": {},
   "outputs": [
    {
     "data": {
      "text/plain": [
       "\"A database is a collection of data that is organized and stored in a computer system. \\n\\nSQl(structured quairy lang): refers to structured data which has some sort of releation with each other ,\\nthis can be modified , altered, retriverd\\n\\nnosql(not only structured quairy lang) , NoSQL databases don't have a fixed schema, which means that data can be added without\\nneeding to conform to a predefined structure.\""
      ]
     },
     "execution_count": 1,
     "metadata": {},
     "output_type": "execute_result"
    }
   ],
   "source": [
    "#Q1. What is a database? Differentiate between SQL and NoSQL databases.\n",
    "\n",
    "'''A database is a collection of data that is organized and stored in a computer system. \n",
    "\n",
    "SQl(structured quairy lang): refers to structured data which has some sort of releation with each other ,\n",
    "this can be modified , altered, retriverd\n",
    "\n",
    "nosql(not only structured quairy lang) , NoSQL databases don't have a fixed schema, which means that data can be added without\n",
    "needing to conform to a predefined structure.'''"
   ]
  },
  {
   "cell_type": "code",
   "execution_count": 2,
   "id": "da27f54b-404d-4985-a73c-2c4e5e88523e",
   "metadata": {},
   "outputs": [
    {
     "data": {
      "text/plain": [
       "'DDL stands for Data Definition Language, and it is a subset of\\nSQL.that is used to define and manage the structure of database objects such as tables\\n, indexes.'"
      ]
     },
     "execution_count": 2,
     "metadata": {},
     "output_type": "execute_result"
    }
   ],
   "source": [
    "#Q2. What is DDL? Explain why CREATE, DROP, ALTER, and TRUNCATE are used with an example.\n",
    "\n",
    "\n",
    "'''DDL stands for Data Definition Language, and it is a subset of\n",
    "SQL.that is used to define and manage the structure of database objects such as tables\n",
    ", indexes.'''\n",
    "\n",
    "\n",
    "#CREATE: This statement is used to create a new object in a database, such as a table\n",
    "CREATE TABLE customers (\n",
    "  id INT PRIMARY KEY,\n",
    "  name VARCHAR(50),\n",
    "  email VARCHAR(50),\n",
    "  phone VARCHAR(15)\n",
    ");\n",
    "\n",
    "\n",
    "#DROP: This statement is used to delete an existing object in a database, such as a table \n",
    "\n",
    "\n",
    "DROP TABLE customers;\n",
    "\n",
    "#ALTER: This statement is used to modify the structure of an existing object in a database, such as a table or column\n",
    "\n",
    "ALTER TABLE customers\n",
    "ADD address VARCHAR(100);\n",
    "\n",
    "#TRUNCATE: This statement is used to delete all the data from a table\n",
    "\n",
    "TRUNCATE TABLE customers;\n",
    "\n"
   ]
  },
  {
   "cell_type": "code",
   "execution_count": null,
   "id": "afa91585-97f9-4da4-b33a-e6369538791a",
   "metadata": {},
   "outputs": [],
   "source": [
    "#Q3. What is DML? Explain INSERT, UPDATE, and DELETE with an example.\n",
    "\n",
    "'''DML stands for Data Manipulation Language, and it is a subset of SQL \n",
    "that is used to manipulate data in a database.'''\n",
    "\n",
    "#INSERT: This statement is used to insert new rows into a table. \n",
    "\n",
    "INSERT INTO customers (id, name, email, phone)\n",
    "VALUES (1, 'ani', 'ani@example.com', '5551234');\n",
    "\n",
    "\n",
    "#UPDATE: This statement is used to update existing rows in a table. \n",
    "UPDATE customers\n",
    "SET phone = '5555678'\n",
    "WHERE id = 1;\n",
    "\n",
    "#DELETE: This statement is used to delete rows from a table. \n",
    "\n",
    "\n",
    "DELETE FROM customers\n",
    "WHERE id = 1;\n",
    "\n",
    "\n",
    "\n",
    "\n",
    "\n",
    "\n",
    "\n",
    "\n",
    "\n"
   ]
  },
  {
   "cell_type": "code",
   "execution_count": null,
   "id": "426e3d2c-6e5c-41cb-a62a-c5a9af0230f3",
   "metadata": {},
   "outputs": [],
   "source": [
    "#Q4. What is DQL? Explain SELECT with an example.\n",
    "\n",
    "'''DQL stands for Data Query Language, and it is a subset of SQL (Structured Query Language) that is used to retrieve data from a database.'''\n",
    "\n",
    "#SELECT is the most commonly used DQL statement, and it is used to \n",
    "#retrieve data from one or more tables in a database\n",
    "\n",
    "SELECT * FROM customers\n",
    "WHERE name = 'ani';\n"
   ]
  },
  {
   "cell_type": "code",
   "execution_count": null,
   "id": "ff1332d0-5b51-48c5-9d38-3a272f11ed03",
   "metadata": {},
   "outputs": [],
   "source": [
    "#Q5. Explain Primary Key and Foreign Key.\n",
    "\n",
    "\n",
    "'''A primary key is a column or set of columns in a table that uniquely identifies each row in the table. \n",
    "It is a unique identifier for the table, and it must be unique for each row. \n",
    "Primary keys are used to enforce data integrity and ensure that each row in a table can be uniquely identified.'''\n",
    "\n",
    "\n",
    "'''A foreign key is a column or set of columns in a table that refers to the primary key of another table.\n",
    "It is used to establish a relationship between two tables.\n",
    "When a foreign key is used, the values in the column(s) of one table must match the values in the primary key of the other table.'''"
   ]
  },
  {
   "cell_type": "code",
   "execution_count": null,
   "id": "8031ac1c-81ed-44c2-9fb0-7700d8b43502",
   "metadata": {},
   "outputs": [],
   "source": [
    "# Q6. Write a python code to connect MySQL to python. Explain the cursor() and execute() method.\n",
    "import mysql.connector\n",
    "\n",
    "mydb = mysql.connector.connect(\n",
    "  host=\"localhost\",\n",
    "  user=\"abc\",\n",
    "  password=\"password\"\n",
    ")\n",
    "\n",
    "mycursor = mydb.cursor()\n",
    "mycursor.execute(\"insert into test1.test_table values(1234 ,'ani', 1234 , 122.445  ,'rudh' )\")\n",
    "mydb.commit()\n",
    "muydb.close()\n",
    "\n",
    "'''cursor() method is used to create a cursor object, \n",
    "which allows us to execute SQL queries on the database, and the execute() method is \n",
    "used to execute a SQL query on the database through the cursor object.'''\n"
   ]
  },
  {
   "cell_type": "code",
   "execution_count": null,
   "id": "9ece608d-72c0-4368-9b46-9e08e95e574e",
   "metadata": {},
   "outputs": [],
   "source": [
    "#Q7. Give the order of execution of SQL clauses in an SQL query.\n",
    "\n",
    "\n",
    "'''\n",
    "FROM clause: \n",
    "JOIN clause: \n",
    "WHERE clause: \n",
    "GROUP BY clause\n",
    "HAVING clause\n",
    "SELECT clause: \n",
    "DISTINCT clause:\n",
    "ORDER \n",
    "LIMIT clause: '''\n",
    "\n",
    "\n",
    "\n",
    "\n",
    "\n",
    "\n",
    "\n",
    "\n"
   ]
  },
  {
   "cell_type": "code",
   "execution_count": null,
   "id": "4f2009ab-0df8-46b3-8599-2b89f4526a9a",
   "metadata": {},
   "outputs": [],
   "source": []
  }
 ],
 "metadata": {
  "kernelspec": {
   "display_name": "Python 3 (ipykernel)",
   "language": "python",
   "name": "python3"
  },
  "language_info": {
   "codemirror_mode": {
    "name": "ipython",
    "version": 3
   },
   "file_extension": ".py",
   "mimetype": "text/x-python",
   "name": "python",
   "nbconvert_exporter": "python",
   "pygments_lexer": "ipython3",
   "version": "3.10.8"
  }
 },
 "nbformat": 4,
 "nbformat_minor": 5
}
